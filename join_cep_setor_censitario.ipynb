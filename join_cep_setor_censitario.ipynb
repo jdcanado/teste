{
  "nbformat": 4,
  "nbformat_minor": 0,
  "metadata": {
    "colab": {
      "name": "join_cep_setor_censitario.ipynb",
      "provenance": [],
      "collapsed_sections": [],
      "include_colab_link": true
    },
    "kernelspec": {
      "name": "python3",
      "display_name": "Python 3"
    },
    "language_info": {
      "name": "python"
    }
  },
  "cells": [
    {
      "cell_type": "markdown",
      "metadata": {
        "id": "view-in-github",
        "colab_type": "text"
      },
      "source": [
        "<a href=\"https://colab.research.google.com/github/jdcanado/teste/blob/master/join_cep_setor_censitario.ipynb\" target=\"_parent\"><img src=\"https://colab.research.google.com/assets/colab-badge.svg\" alt=\"Open In Colab\"/></a>"
      ]
    },
    {
      "cell_type": "code",
      "metadata": {
        "colab": {
          "base_uri": "https://localhost:8080/"
        },
        "id": "IGZNKqY5k9O5",
        "outputId": "d188b964-48f4-4c1b-c87a-f2cd8d27e780"
      },
      "source": [
        "!pip install pycep_correios\n",
        "\n",
        "\n"
      ],
      "execution_count": 19,
      "outputs": [
        {
          "output_type": "stream",
          "text": [
            "Requirement already satisfied: pycep_correios in /usr/local/lib/python3.7/dist-packages (5.0.0)\n",
            "Requirement already satisfied: zeep>=2.0.0 in /usr/local/lib/python3.7/dist-packages (from pycep_correios) (4.0.0)\n",
            "Requirement already satisfied: requests>=2.7.0 in /usr/local/lib/python3.7/dist-packages (from pycep_correios) (2.23.0)\n",
            "Requirement already satisfied: pytz in /usr/local/lib/python3.7/dist-packages (from zeep>=2.0.0->pycep_correios) (2018.9)\n",
            "Requirement already satisfied: requests-file>=1.5.1 in /usr/local/lib/python3.7/dist-packages (from zeep>=2.0.0->pycep_correios) (1.5.1)\n",
            "Requirement already satisfied: requests-toolbelt>=0.7.1 in /usr/local/lib/python3.7/dist-packages (from zeep>=2.0.0->pycep_correios) (0.9.1)\n",
            "Requirement already satisfied: appdirs>=1.4.0 in /usr/local/lib/python3.7/dist-packages (from zeep>=2.0.0->pycep_correios) (1.4.4)\n",
            "Requirement already satisfied: attrs>=17.2.0 in /usr/local/lib/python3.7/dist-packages (from zeep>=2.0.0->pycep_correios) (21.2.0)\n",
            "Requirement already satisfied: cached-property>=1.3.0 in /usr/local/lib/python3.7/dist-packages (from zeep>=2.0.0->pycep_correios) (1.5.2)\n",
            "Requirement already satisfied: lxml>=3.1.0 in /usr/local/lib/python3.7/dist-packages (from zeep>=2.0.0->pycep_correios) (4.2.6)\n",
            "Requirement already satisfied: defusedxml>=0.4.1 in /usr/local/lib/python3.7/dist-packages (from zeep>=2.0.0->pycep_correios) (0.7.1)\n",
            "Requirement already satisfied: isodate>=0.5.4 in /usr/local/lib/python3.7/dist-packages (from zeep>=2.0.0->pycep_correios) (0.6.0)\n",
            "Requirement already satisfied: urllib3!=1.25.0,!=1.25.1,<1.26,>=1.21.1 in /usr/local/lib/python3.7/dist-packages (from requests>=2.7.0->pycep_correios) (1.24.3)\n",
            "Requirement already satisfied: chardet<4,>=3.0.2 in /usr/local/lib/python3.7/dist-packages (from requests>=2.7.0->pycep_correios) (3.0.4)\n",
            "Requirement already satisfied: certifi>=2017.4.17 in /usr/local/lib/python3.7/dist-packages (from requests>=2.7.0->pycep_correios) (2021.5.30)\n",
            "Requirement already satisfied: idna<3,>=2.5 in /usr/local/lib/python3.7/dist-packages (from requests>=2.7.0->pycep_correios) (2.10)\n",
            "Requirement already satisfied: six in /usr/local/lib/python3.7/dist-packages (from requests-file>=1.5.1->zeep>=2.0.0->pycep_correios) (1.15.0)\n"
          ],
          "name": "stdout"
        }
      ]
    },
    {
      "cell_type": "code",
      "metadata": {
        "colab": {
          "base_uri": "https://localhost:8080/"
        },
        "id": "8inmL2lcRa4t",
        "outputId": "83687158-deeb-4797-83f9-4405102c36d2"
      },
      "source": [
        "!pip install geopandas"
      ],
      "execution_count": 20,
      "outputs": [
        {
          "output_type": "stream",
          "text": [
            "Requirement already satisfied: geopandas in /usr/local/lib/python3.7/dist-packages (0.9.0)\n",
            "Requirement already satisfied: pandas>=0.24.0 in /usr/local/lib/python3.7/dist-packages (from geopandas) (1.1.5)\n",
            "Requirement already satisfied: shapely>=1.6 in /usr/local/lib/python3.7/dist-packages (from geopandas) (1.7.1)\n",
            "Requirement already satisfied: pyproj>=2.2.0 in /usr/local/lib/python3.7/dist-packages (from geopandas) (3.1.0)\n",
            "Requirement already satisfied: fiona>=1.8 in /usr/local/lib/python3.7/dist-packages (from geopandas) (1.8.20)\n",
            "Requirement already satisfied: numpy>=1.15.4 in /usr/local/lib/python3.7/dist-packages (from pandas>=0.24.0->geopandas) (1.19.5)\n",
            "Requirement already satisfied: python-dateutil>=2.7.3 in /usr/local/lib/python3.7/dist-packages (from pandas>=0.24.0->geopandas) (2.8.1)\n",
            "Requirement already satisfied: pytz>=2017.2 in /usr/local/lib/python3.7/dist-packages (from pandas>=0.24.0->geopandas) (2018.9)\n",
            "Requirement already satisfied: certifi in /usr/local/lib/python3.7/dist-packages (from pyproj>=2.2.0->geopandas) (2021.5.30)\n",
            "Requirement already satisfied: six>=1.7 in /usr/local/lib/python3.7/dist-packages (from fiona>=1.8->geopandas) (1.15.0)\n",
            "Requirement already satisfied: munch in /usr/local/lib/python3.7/dist-packages (from fiona>=1.8->geopandas) (2.5.0)\n",
            "Requirement already satisfied: setuptools in /usr/local/lib/python3.7/dist-packages (from fiona>=1.8->geopandas) (57.0.0)\n",
            "Requirement already satisfied: click-plugins>=1.0 in /usr/local/lib/python3.7/dist-packages (from fiona>=1.8->geopandas) (1.1.1)\n",
            "Requirement already satisfied: attrs>=17 in /usr/local/lib/python3.7/dist-packages (from fiona>=1.8->geopandas) (21.2.0)\n",
            "Requirement already satisfied: cligj>=0.5 in /usr/local/lib/python3.7/dist-packages (from fiona>=1.8->geopandas) (0.7.2)\n",
            "Requirement already satisfied: click>=4.0 in /usr/local/lib/python3.7/dist-packages (from fiona>=1.8->geopandas) (7.1.2)\n"
          ],
          "name": "stdout"
        }
      ]
    },
    {
      "cell_type": "code",
      "metadata": {
        "colab": {
          "base_uri": "https://localhost:8080/"
        },
        "id": "R7EKeqgPlqbM",
        "outputId": "7b2683c6-bacc-47ce-a6e6-a3f575666ccb"
      },
      "source": [
        "!pip install Nominatim\n"
      ],
      "execution_count": 21,
      "outputs": [
        {
          "output_type": "stream",
          "text": [
            "Requirement already satisfied: Nominatim in /usr/local/lib/python3.7/dist-packages (0.1)\n"
          ],
          "name": "stdout"
        }
      ]
    },
    {
      "cell_type": "code",
      "metadata": {
        "colab": {
          "base_uri": "https://localhost:8080/"
        },
        "id": "M0UrboSlvmzR",
        "outputId": "421eaa18-855d-4439-a0ea-f00229bb68c7"
      },
      "source": [
        "import pandas as pd\n",
        "from shapely.geometry import Point\n",
        "import geopandas as gpd\n",
        "from pycep_correios import get_address_from_cep, WebService, exceptions\n",
        "from geopy.geocoders import Nominatim\n",
        "\n",
        "uri = \"https://raw.githubusercontent.com/jdcanado/teste/master/CEP_todas_bases.csv\"\n",
        " \n",
        "dados = pd.read_csv(uri, delimiter=\",\")\n",
        "df = dados.head(50)\n",
        "\n",
        "for row in df.index:\n",
        "   cep = '' + df['CEP'][row]\n",
        "   \n",
        "   while True:\n",
        "      try:\n",
        "          endereco = get_address_from_cep(cep, webservice=WebService.VIACEP)    \n",
        "          break\n",
        "      except exceptions.InvalidCEP as eic:\n",
        "          print(eic)\n",
        "          \n",
        "      except exceptions.CEPNotFound as ecnf:\n",
        "          print(ecnf)\n",
        "          \n",
        "      except exceptions.ConnectionError as errc:\n",
        "          print(errc)\n",
        "          \n",
        "      except exceptions.Timeout as errt:\n",
        "          print(errt)\n",
        "          \n",
        "      except exceptions.HTTPError as errh:\n",
        "          print(errh)\n",
        "          \n",
        "      except exceptions.BaseException as e:\n",
        "          print(e)          \n",
        "          \n",
        "      except:\n",
        "          print('Erro ao tentar localizar o cep ' + cep)\n",
        "\n",
        "   while True:\n",
        "      try:             \n",
        "          geolocator = Nominatim(user_agent=\"test_app\")\n",
        "          location = geolocator.geocode(endereco['logradouro'] + \", \" + endereco['cidade'] + \" - \" + endereco['bairro'])\n",
        "          geolocation_info_df = pd.DataFrame({'cep': [cep], 'Logradouro': [endereco['logradouro']], 'bairro': endereco['bairro'], 'cidade': endereco['cidade'], 'uf': endereco['uf']})\n",
        "          geolocation_info_df['coordinate_point'] = Point(location.longitude, location.latitude)\n",
        "          census_sector_gpd = gpd.read_file('/content/drive/My Drive/join_cep_setor_censitario/dataset/35SEE250GC_SIR.shp')\n",
        "          geolocation_info_df['census_code'] = geolocation_info_df['coordinate_point'].map(lambda x: census_sector_gpd.loc[census_sector_gpd.contains(x), 'CD_GEOCODI'].values).str[0].astype('int64')\n",
        "          print('CEP: ' + str(geolocation_info_df['cep'].values[0]) + ' ---> Código censo: ' + str(geolocation_info_df['census_code'].values[0]) + ' ---> Longitude: ' + str(location.longitude) + ' ---> Latitude: ' + str(location.latitude))      \n",
        "          break\n",
        "      except:\n",
        "          print('Erro ao tentar obter a localização para o cep ' + cep)\n",
        "          break\n"
      ],
      "execution_count": 2,
      "outputs": [
        {
          "output_type": "stream",
          "text": [
            "CEP: 01001000 ---> Código censo: 355030878000004 ---> Longitude: -46.633080956332904 ---> Latitude: -23.550389799999998\n",
            "CEP: 01001001 ---> Código censo: 355030878000004 ---> Longitude: -46.633080956332904 ---> Latitude: -23.550389799999998\n",
            "CEP: 01001010 ---> Código censo: 355030878000004 ---> Longitude: -46.6338028 ---> Latitude: -23.5512564\n",
            "CEP: 01001901 ---> Código censo: 355030878000004 ---> Longitude: -46.6340301 ---> Latitude: -23.5513772\n",
            "CEP: 01002000 ---> Código censo: 355030878000005 ---> Longitude: -46.6361174 ---> Latitude: -23.5479884\n",
            "CEP: 01002001 ---> Código censo: 355030878000005 ---> Longitude: -46.6361174 ---> Latitude: -23.5479884\n",
            "CEP: 01002010 ---> Código censo: 355030878000006 ---> Longitude: -46.63642875 ---> Latitude: -23.54761425\n",
            "CEP: 01002020 ---> Código censo: 355030866000003 ---> Longitude: -46.6385296 ---> Latitude: -23.5459758\n",
            "CEP: 01003000 ---> Código censo: 355030878000005 ---> Longitude: -46.6384205 ---> Latitude: -23.5486085\n",
            "CEP: 01003001 ---> Código censo: 355030878000005 ---> Longitude: -46.6384205 ---> Latitude: -23.5486085\n",
            "CEP: 01003010 ---> Código censo: 355030878000005 ---> Longitude: -46.63719095866044 ---> Latitude: -23.54908355\n",
            "CEP: 01003900 ---> Código censo: 355030878000005 ---> Longitude: -46.6345768 ---> Latitude: -23.5489398\n",
            "CEP: 01003901 ---> Código censo: 355030878000005 ---> Longitude: -46.6351943 ---> Latitude: -23.5490558\n",
            "CEP: 01003902 ---> Código censo: 355030878000005 ---> Longitude: -46.6362505 ---> Latitude: -23.549017\n",
            "CEP: 01003903 ---> Código censo: 355030878000005 ---> Longitude: -46.6368248 ---> Latitude: -23.5488927\n",
            "CEP: 01003904 ---> Código censo: 355030878000005 ---> Longitude: -46.6371266 ---> Latitude: -23.54886\n",
            "CEP: 01004000 ---> Código censo: 355030878000005 ---> Longitude: -46.6344452 ---> Latitude: -23.5495119\n",
            "CEP: 01004010 ---> Código censo: 355030878000005 ---> Longitude: -46.6354561 ---> Latitude: -23.5510897\n",
            "CEP: 01004900 ---> Código censo: 355030878000005 ---> Longitude: -46.6348037 ---> Latitude: -23.5492196\n",
            "CEP: 01004901 ---> Código censo: 355030878000005 ---> Longitude: -46.6352468 ---> Latitude: -23.5501412\n",
            "CEP: 01004902 ---> Código censo: 355030878000005 ---> Longitude: -46.6351497 ---> Latitude: -23.5503588\n",
            "CEP: 01004903 ---> Código censo: 355030878000005 ---> Longitude: -46.6352755 ---> Latitude: -23.5507713\n",
            "CEP: 01004904 ---> Código censo: 355030878000005 ---> Longitude: -46.6347434 ---> Latitude: -23.5495057\n",
            "CEP: 01005000 ---> Código censo: 355030878000005 ---> Longitude: -46.635868 ---> Latitude: -23.549725\n",
            "CEP: 01005010 ---> Código censo: 355030878000005 ---> Longitude: -46.636853989803626 ---> Latitude: -23.54975565\n",
            "CEP: 01005020 ---> Código censo: 355070415000004 ---> Longitude: -45.4111734 ---> Latitude: -23.7593588\n",
            "CEP: 01005030 ---> Código censo: 355030878000005 ---> Longitude: -46.637879 ---> Latitude: -23.5490174\n",
            "CEP: 01006000 ---> Código censo: 355030878000005 ---> Longitude: -46.6347943 ---> Latitude: -23.5507346\n",
            "CEP: 01006001 ---> Código censo: 355030878000005 ---> Longitude: -46.6347943 ---> Latitude: -23.5507346\n",
            "CEP: 01006010 ---> Código censo: 355030878000005 ---> Longitude: -46.6357851 ---> Latitude: -23.5489711\n",
            "CEP: 01006020 ---> Código censo: 355030878000005 ---> Longitude: -46.6367008 ---> Latitude: -23.5505229\n",
            "Erro ao tentar obter a localização para o cep 01006030\n",
            "CEP: 01006900 ---> Código censo: 355030878000005 ---> Longitude: -46.6350766 ---> Latitude: -23.5507049\n",
            "CEP: 01006903 ---> Código censo: 355030878000005 ---> Longitude: -46.6358094 ---> Latitude: -23.5491212\n",
            "CEP: 01006904 ---> Código censo: 355030878000005 ---> Longitude: -46.6362861 ---> Latitude: -23.5494802\n",
            "CEP: 01007000 ---> Código censo: 355030878000035 ---> Longitude: -46.6366235 ---> Latitude: -23.5506657\n",
            "CEP: 01007010 ---> Código censo: 355030878000006 ---> Longitude: -46.6377089 ---> Latitude: -23.54821\n",
            "CEP: 01007020 ---> Código censo: 355220505000007 ---> Longitude: -47.46246357955762 ---> Latitude: -23.49569455\n",
            "CEP: 01007040 ---> Código censo: 355030878000006 ---> Longitude: -46.6364554 ---> Latitude: -23.5458806\n",
            "CEP: 01007901 ---> Código censo: 355030878000005 ---> Longitude: -46.6356844 ---> Latitude: -23.5510184\n",
            "CEP: 01007906 ---> Código censo: 355030878000035 ---> Longitude: -46.6374843 ---> Latitude: -23.5503457\n",
            "CEP: 01008000 ---> Código censo: 353150605000011 ---> Longitude: -48.6447117 ---> Latitude: -20.9051634\n",
            "CEP: 01008010 ---> Código censo: 352260405000014 ---> Longitude: -46.8324161 ---> Latitude: -22.4298\n",
            "CEP: 01008900 ---> Código censo: 353980605000001 ---> Longitude: -46.3468842 ---> Latitude: -23.5295013\n",
            "CEP: 01008902 ---> Código censo: 355370805000006 ---> Longitude: -48.5022747 ---> Latitude: -21.4062889\n",
            "CEP: 01008903 ---> Código censo: 355370805000006 ---> Longitude: -48.5022747 ---> Latitude: -21.4062889\n",
            "CEP: 01008904 ---> Código censo: 355370805000006 ---> Longitude: -48.5022747 ---> Latitude: -21.4062889\n",
            "CEP: 01009000 ---> Código censo: 353150605000011 ---> Longitude: -48.6447117 ---> Latitude: -20.9051634\n",
            "CEP: 01009901 ---> Código censo: 355370805000006 ---> Longitude: -48.5022747 ---> Latitude: -21.4062889\n",
            "CEP: 01009902 ---> Código censo: 355370805000006 ---> Longitude: -48.5022747 ---> Latitude: -21.4062889\n"
          ],
          "name": "stdout"
        }
      ]
    },
    {
      "cell_type": "code",
      "metadata": {
        "id": "_ceO1MYNaDkS"
      },
      "source": [
        "from google.colab import drive\n",
        "\n",
        "drive.mount('/content/drive')\n"
      ],
      "execution_count": null,
      "outputs": []
    }
  ]
}